{
 "cells": [
  {
   "cell_type": "code",
   "execution_count": null,
   "id": "071bcf96-ea09-4f13-b9ff-c7630e36eaa1",
   "metadata": {},
   "outputs": [],
   "source": [
    "#/==========================================/\n",
    "#/                                          /\n",
    "#/             Program halo.py              /\n",
    "#/   by nurhayatiistiqomah@mail.ugm.ac.id   /\n",
    "#/                                          /\n",
    "#/========================================= /"
   ]
  },
  {
   "cell_type": "code",
   "execution_count": 2,
   "id": "9eb95247-6df5-440c-a86d-79fb07558f86",
   "metadata": {},
   "outputs": [
    {
     "name": "stdout",
     "output_type": "stream",
     "text": [
      "Hello, Phyton !\n"
     ]
    }
   ],
   "source": [
    "print ('Hello, Phyton !')"
   ]
  },
  {
   "cell_type": "code",
   "execution_count": 4,
   "id": "de1ae554-44e6-420c-af14-882de430c176",
   "metadata": {},
   "outputs": [
    {
     "name": "stdout",
     "output_type": "stream",
     "text": [
      "Iam Isti\n"
     ]
    }
   ],
   "source": [
    "print ('Iam Isti')"
   ]
  },
  {
   "cell_type": "code",
   "execution_count": null,
   "id": "39646567-67a9-4fa5-a691-f549da89a33e",
   "metadata": {},
   "outputs": [],
   "source": []
  }
 ],
 "metadata": {
  "kernelspec": {
   "display_name": "Python 3",
   "language": "python",
   "name": "python3"
  },
  "language_info": {
   "codemirror_mode": {
    "name": "ipython",
    "version": 3
   },
   "file_extension": ".py",
   "mimetype": "text/x-python",
   "name": "python",
   "nbconvert_exporter": "python",
   "pygments_lexer": "ipython3",
   "version": "3.8.5"
  }
 },
 "nbformat": 4,
 "nbformat_minor": 5
}
